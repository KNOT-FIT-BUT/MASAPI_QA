{
 "metadata": {
  "language_info": {
   "codemirror_mode": {
    "name": "ipython",
    "version": 3
   },
   "file_extension": ".py",
   "mimetype": "text/x-python",
   "name": "python",
   "nbconvert_exporter": "python",
   "pygments_lexer": "ipython3",
   "version": "3.6.9-final"
  },
  "orig_nbformat": 2,
  "kernelspec": {
   "name": "python3",
   "display_name": "Python 3",
   "language": "python"
  }
 },
 "nbformat": 4,
 "nbformat_minor": 2,
 "cells": [
  {
   "cell_type": "code",
   "execution_count": 2,
   "metadata": {},
   "outputs": [],
   "source": [
    "import torch\n",
    "!ls ../../../.data/old"
   ]
  },
  {
   "source": [
    "# Retriever convert (Martin Fajčik)"
   ],
   "cell_type": "markdown",
   "metadata": {}
  },
  {
   "cell_type": "code",
   "execution_count": 9,
   "metadata": {},
   "outputs": [],
   "source": [
    "retriever_path_old = \"../../../.data/old/dpr_official_questionencoder_nq.pt\"\n",
    "retriever_path_new = \"../../../.data/dpr_official_questionencoder_nq.pt\"\n",
    "\n",
    "model_sd = torch.load(retriever_path_old, map_location=torch.device(\"cpu\"))\n",
    "model_cfg = {\n",
    "    \"model_type\": \"bert-base-uncased\",\n",
    "    \"model_cache_dir\": None,\n",
    "    \"use_projection\": False,\n",
    "}\n",
    "\n",
    "checkpoint = {\n",
    "    \"model\": model_sd,\n",
    "    \"config\": model_cfg\n",
    "}\n",
    "\n",
    "torch.save(checkpoint, retriever_path_new)"
   ]
  },
  {
   "cell_type": "code",
   "execution_count": 14,
   "metadata": {},
   "outputs": [],
   "source": [
    "from transformers import AutoConfig\n",
    "\n",
    "reranker_path_old = \"../../../.data/old/concat_reranker_longformer-base-4096_2020-12-18-12-02_pcknot4.ckpt_HIT@25_0.825168436679228.ckpt\"\n",
    "reranker_path_new = \"../../../.data/concat_reranker_longformer-base-4096_2020-12-18-12-02_pcknot4.ckpt_HIT@25_0.825168436679228.ckpt\"\n",
    "\n",
    "config = AutoConfig.from_pretrained(\"allenai/longformer-base-4096\", cache_dir=\"../../../.cache\")\n",
    "\n",
    "model_sd = torch.load(reranker_path_old, map_location=torch.device(\"cpu\"))[\"state_dict\"]\n",
    "model_cfg = {\n",
    "    \"reranker_model_type\": \"concat\",\n",
    "    \"encoder_config\": config,\n",
    "    \"max_length\": 4096,\n",
    "    \"passage_attention\": False,\n",
    "    \"with_cls\": False,\n",
    "    \"negatives\": False,\n",
    "    \"training\": {}\n",
    "}\n",
    "\n",
    "checkpoint = {\n",
    "    \"model\": model_sd,\n",
    "    \"config\": model_cfg\n",
    "}\n",
    "\n",
    "torch.save(checkpoint, reranker_path_new)"
   ]
  },
  {
   "cell_type": "code",
   "execution_count": 5,
   "metadata": {},
   "outputs": [
    {
     "output_type": "stream",
     "name": "stdout",
     "text": [
      "dict_keys(['reranker_model_type', 'encoder_config', 'max_length', 'negatives', 'training'])\n"
     ]
    }
   ],
   "source": [
    "reranker_path_old = \"../../../.data/old/reranker_roberta-base_2021-01-22-10-57_pcknot4_HIT@25_0.8355601233299075.ckpt\"\n",
    "reranker_path_new = \"../../../.data/reranker_roberta-base_2021-01-22-10-57_pcknot4_HIT@25_0.8355601233299075.ckpt\"\n",
    "\n",
    "checkpoint = torch.load(reranker_path_old, map_location=torch.device(\"cpu\"))\n",
    "print(checkpoint[\"config\"].keys())\n",
    "checkpoint[\"config\"][\"encoder\"] = \"roberta-base\"\n",
    "\n",
    "torch.save(checkpoint, reranker_path_new)"
   ]
  },
  {
   "source": [
    "# Fusion Decoder"
   ],
   "cell_type": "markdown",
   "metadata": {}
  },
  {
   "cell_type": "code",
   "execution_count": 9,
   "metadata": {},
   "outputs": [],
   "source": [
    "reranker_path_old = \"/mnt/data/xondre09_pc5/.data/old/generative_reader_EM0.4499_S7000_Mt5-base_2020-12-23_10:25.pt\"\n",
    "reranker_path_new = \"/mnt/data/xondre09_pc5/.data/generative_reader_EM0.4499_S7000_Mt5-base_2020-12-23_10:25.pt\"\n",
    "\n",
    "checkpoint = torch.load(reranker_path_old, map_location=torch.device(\"cpu\"))\n",
    "\n",
    "torch.save({\n",
    "    \"model\": checkpoint[\"state_dict\"],\n",
    "    \"config\": {\n",
    "        \"encoder\": \"t5-base\",\n",
    "        \"encoder_config\": checkpoint[\"config\"],\n",
    "        \"context_size\": 25,\n",
    "        \"preprocessing_truncation\": \"truncate_only_passages\",\n",
    "        \"fusion_strategy\": \"allinputs\"\n",
    "    }\n",
    "}, reranker_path_new)"
   ]
  },
  {
   "cell_type": "code",
   "execution_count": null,
   "metadata": {},
   "outputs": [],
   "source": []
  }
 ]
}